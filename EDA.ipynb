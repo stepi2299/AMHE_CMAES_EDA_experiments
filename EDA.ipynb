{
 "cells": [
  {
   "cell_type": "markdown",
   "metadata": {
    "id": "WUKwzZfvXBSa"
   },
   "source": [
    "# Libraries"
   ]
  },
  {
   "cell_type": "code",
   "execution_count": null,
   "metadata": {
    "id": "C1S5BLjAW-7u"
   },
   "outputs": [],
   "source": [
    "import numpy as np\n",
    "import random\n",
    "from deap import base, creator, benchmarks\n",
    "import matplotlib.pyplot as plt\n",
    "import time\n",
    "from scipy import stats\n",
    "from abc import ABC, abstractmethod"
   ]
  },
  {
   "cell_type": "markdown",
   "metadata": {
    "id": "87ZMkNrpXD2H"
   },
   "source": [
    "# parameters"
   ]
  },
  {
   "cell_type": "code",
   "execution_count": null,
   "metadata": {
    "id": "UKELs4pcXE7f"
   },
   "outputs": [],
   "source": [
    "central_point_function_name = \"mean\"  # Check possible names below in 'possible_central_point_functions'\n",
    "obj_func = \"ackley\"  # Check possible names below in 'possible_obj_func'\n",
    "dim = 20 # dimension of the objective function\n",
    "\n",
    "population_size=100  # Int, the size of the population\n",
    "num_generations=50  # num_generations: Int, the number of generations\n",
    "num_best=20  # For EDA: Int, the number of best individuals to select\n",
    "\n",
    "proportion_to_cut = 0.1  # float [0, 1] Parameter used if you are using central point trimmed_mean or trimmed_median"
   ]
  },
  {
   "cell_type": "markdown",
   "metadata": {
    "id": "wlz-VWrIeoPJ"
   },
   "source": [
    "## Validation Params"
   ]
  },
  {
   "cell_type": "code",
   "execution_count": null,
   "metadata": {
    "id": "Ze0mHNUDerh6"
   },
   "outputs": [],
   "source": [
    "possible_central_point_functions = ['mean', 'static_weight_avg', 'dynamic_weighted_average', 'median',\n",
    " 'trimmed_mean', 'trimmed_median', 'randomized_weighted_mean']\n",
    "if central_point_function_name not in possible_central_point_functions:\n",
    "  raise Exception(f\"Wrong parameter as defining central point, received: {central_point_function_name}, possible: {possible_central_point_functions}\")\n",
    "possible_obj_func = ['sphere', 'rastrigin', 'rosenbrock', 'ackley', 'griewank', 'schwefel', 'himmelblau']\n",
    "if obj_func not in possible_obj_func:\n",
    "  raise Exception(f\"Wrong parameter as defining objective function, received: {obj_func}, possible: {possible_obj_func}\")"
   ]
  },
  {
   "cell_type": "markdown",
   "metadata": {
    "id": "7qrH9NB0b6Vh"
   },
   "source": [
    "# Algorithms"
   ]
  },
  {
   "cell_type": "markdown",
   "metadata": {
    "id": "BSjA6jmTb-fN"
   },
   "source": [
    "## Definition of central point"
   ]
  },
  {
   "cell_type": "code",
   "execution_count": null,
   "metadata": {
    "id": "oZe66CX8b9vr"
   },
   "outputs": [],
   "source": [
    "def mean_point(selected, fitness):\n",
    "  return np.mean(selected, axis=0)\n",
    "\n",
    "def static_weighted_average(selected, fitness):\n",
    "    weights = np.linspace(1, 0.5, num=len(selected))\n",
    "    weighted_mean = np.average(selected, axis=0, weights=weights)\n",
    "    return weighted_mean\n",
    "\n",
    "def dynamic_weighted_average(selected, fitness):\n",
    "    weights = fitness / np.sum(fitness)\n",
    "    weighted_mean = np.average(selected, axis=0, weights=weights)\n",
    "    return weighted_mean\n",
    "\n",
    "def median(selected, fitness):\n",
    "    return np.median(selected, axis=0)\n",
    "\n",
    "def trimmed_mean(selected, fitness):\n",
    "    return stats.trim_mean(selected, proportion_to_cut, axis=0)\n",
    "\n",
    "def trimmed_median(selected, fitness):\n",
    "    sorted_selected = np.sort(selected, axis=0)\n",
    "    cut_off = int(proportion_to_cut * len(sorted_selected))\n",
    "    trimmed = sorted_selected[cut_off:-cut_off]\n",
    "    return np.median(trimmed, axis=0)\n",
    "\n",
    "def randomized_weighted_mean(selected, fitness):\n",
    "    random_weights = np.random.rand(len(selected))\n",
    "    random_weights /= sum(random_weights)\n",
    "    return np.average(selected, axis=0, weights=random_weights)"
   ]
  },
  {
   "cell_type": "code",
   "execution_count": null,
   "metadata": {
    "id": "HmnRGv2BfY7X"
   },
   "outputs": [],
   "source": [
    "central_point_mapper = {\n",
    "    \"mean\": mean_point,\n",
    "    \"static_weight_avg\": static_weighted_average,\n",
    "    \"dynamic_weighted_average\": dynamic_weighted_average,\n",
    "    \"median\": median,\n",
    "    \"trimmed_mean\": trimmed_mean,\n",
    "    \"trimmed_median\": trimmed_median,\n",
    "    \"randomized_weighted_mean\": randomized_weighted_mean\n",
    "}"
   ]
  },
  {
   "cell_type": "code",
   "execution_count": null,
   "metadata": {
    "id": "C3bE9q4iKezt"
   },
   "outputs": [],
   "source": [
    "print(list(central_point_mapper.keys()))"
   ]
  },
  {
   "cell_type": "code",
   "execution_count": null,
   "metadata": {
    "id": "IKTbgvaBfFeE"
   },
   "outputs": [],
   "source": [
    "def central_point_function():\n",
    "  return central_point_mapper[central_point_function_name]"
   ]
  },
  {
   "cell_type": "markdown",
   "metadata": {
    "id": "DfIVKl1pjNnu"
   },
   "source": [
    "## Definition of the objective function"
   ]
  },
  {
   "cell_type": "code",
   "execution_count": null,
   "metadata": {
    "id": "_WLcm9zOjQ3l"
   },
   "outputs": [],
   "source": [
    "def get_obj_function_and_bounds(name, dimension=2):\n",
    "    \"\"\"Returns the function and its associated bounds based on the given name.\"\"\"\n",
    "    functions = {\n",
    "        \"sphere\": (lambda x: -benchmarks.sphere(x)[0], [0, 10]),\n",
    "        \"rastrigin\": (lambda x: -benchmarks.rastrigin(x)[0], [-5.12, 5.12]),\n",
    "        \"rosenbrock\": (lambda x: -benchmarks.rosenbrock(x)[0], [-2.048, 2.048]),\n",
    "        \"ackley\": (lambda x: -benchmarks.ackley(x)[0], [-32.768, 32.768]),\n",
    "        \"griewank\": (lambda x: -benchmarks.griewank(x)[0], [-600, 600]),\n",
    "        \"schwefel\": (lambda x: -benchmarks.schwefel(x)[0], [-500, 500]),\n",
    "        \"himmelblau\": (lambda x: -benchmarks.himmelblau(x)[0], [-6, 6])\n",
    "    }\n",
    "\n",
    "    func, single_dim_bounds = functions[name]\n",
    "    # Expand the bounds to the specified number of dimensions, except for inherently 2D functions\n",
    "    if name in [\"himmelblau\", \"booth\"] and dimension != 2:\n",
    "        raise ValueError(f\"{name} function is typically a 2D function.\")\n",
    "\n",
    "    bounds = [single_dim_bounds] * dimension  # Create a list of bounds for each dimension\n",
    "    return func, bounds"
   ]
  },
  {
   "cell_type": "markdown",
   "metadata": {
    "id": "YVua_tFTcDPx"
   },
   "source": [
    "# Algorithms definition"
   ]
  },
  {
   "cell_type": "code",
   "execution_count": null,
   "metadata": {
    "id": "-hZAtEWU_lV0"
   },
   "outputs": [],
   "source": [
    "class EvolutionInterface(ABC):\n",
    "  def __init__(self, objective_function, bounds, central_point_function, population_size, num_generations):\n",
    "        self.objective_function = objective_function\n",
    "        self.bounds = bounds\n",
    "        self.central_point_function = central_point_function\n",
    "        self.population_size = population_size\n",
    "        self.num_generations = num_generations\n",
    "        self.dimension = len(bounds)  # The length of bounds should determine the number of dimensions.\n",
    "\n",
    "  @abstractmethod\n",
    "  def run():\n",
    "    pass\n"
   ]
  },
  {
   "cell_type": "code",
   "execution_count": null,
   "metadata": {
    "id": "2kG2sjBncBHA"
   },
   "outputs": [],
   "source": [
    "class EDA(EvolutionInterface):\n",
    "    def __init__(self, objective_function, bounds, central_point_function, population_size, num_generations, num_best):\n",
    "        super(EDA).__init__(objective_function, bounds, central_point_function, population_size, num_generations)\n",
    "        self.num_best = num_best\n",
    "\n",
    "    def initialize_population(self):\n",
    "        \"\"\"Generate an initial population within given bounds for each dimension.\"\"\"\n",
    "        return np.array([[np.random.uniform(low, high) for low, high in self.bounds] for _ in range(self.population_size)])\n",
    "\n",
    "    def evaluate_population(self, population):\n",
    "        \"\"\"Evaluate a population using the objective function.\"\"\"\n",
    "        return np.array([self.objective_function(ind) for ind in population])\n",
    "\n",
    "    def select_best_individuals(self, population, fitness):\n",
    "        \"\"\"Select the best individuals based on their fitness.\"\"\"\n",
    "        indices = np.argsort(-fitness)\n",
    "        selected = population[indices][:self.num_best]\n",
    "        selected_fitness = fitness[indices][:self.num_best]\n",
    "        return selected, selected_fitness\n",
    "\n",
    "\n",
    "    def estimate_distribution(self, selected, fitness):\n",
    "        \"\"\"Use the central point function to calculate distribution parameters.\"\"\"\n",
    "        mean = self.central_point_function(selected, fitness)\n",
    "        std = np.std(selected, axis=0)\n",
    "        return mean, std\n",
    "\n",
    "    def sample_new_population(self, distribution_params):\n",
    "        \"\"\"Sample a new population based on the distribution parameters.\"\"\"\n",
    "        mean, std = distribution_params\n",
    "        return np.array([np.random.normal(mean, std) for _ in range(self.population_size)])\n",
    "\n",
    "    def run(self):\n",
    "        \"\"\"Run the Estimation of Distribution Algorithm.\"\"\"\n",
    "        population = self.initialize_population()\n",
    "        fitness_history = []\n",
    "\n",
    "        for generation in range(self.num_generations):\n",
    "            fitness = self.evaluate_population(population)\n",
    "            fitness_history.append(np.max(fitness))\n",
    "            selected, fitness = self.select_best_individuals(population, fitness)\n",
    "            distribution_params = self.estimate_distribution(selected, fitness)\n",
    "            population = self.sample_new_population(distribution_params)\n",
    "            print(f\"Generation {generation}: Max fitness = {np.max(fitness)}\")\n",
    "\n",
    "        return population, fitness_history"
   ]
  },
  {
   "cell_type": "markdown",
   "metadata": {
    "id": "cGfo5ewpebhV"
   },
   "source": [
    "# Experiments"
   ]
  },
  {
   "cell_type": "code",
   "execution_count": null,
   "metadata": {
    "id": "3HQS2AGoedvN"
   },
   "outputs": [],
   "source": [
    "objective_function, bounds = get_obj_function_and_bounds(obj_func, dim)\n",
    "\n",
    "# Create EDA instance with custom central point function\n",
    "eda = EDA(objective_function, bounds, central_point_function(), population_size, num_generations, num_best)\n",
    "start_time = time.perf_counter()\n",
    "final_population, fitness_history = eda.run()\n",
    "end_time = time.perf_counter()"
   ]
  },
  {
   "cell_type": "markdown",
   "metadata": {
    "id": "ruaaXJd-hKk9"
   },
   "source": [
    "# Analyze"
   ]
  },
  {
   "cell_type": "code",
   "execution_count": null,
   "metadata": {
    "id": "-LdI-lqngR8B"
   },
   "outputs": [],
   "source": [
    "try:\n",
    "  print(\"Time of the evaluation:\", end_time-start_time)\n",
    "except Exception:\n",
    "  print(\"Cannot calculate time of execution because execution was stopped by force and it was not completed so there is no ending time\")\n",
    "plt.plot(fitness_history)\n",
    "plt.title('Fitness over Generations')\n",
    "plt.xlabel('Generation')\n",
    "plt.ylabel('Max Fitness')\n",
    "plt.show()"
   ]
  }
 ],
 "metadata": {
  "colab": {
   "provenance": []
  },
  "kernelspec": {
   "display_name": ".amhe_venv",
   "language": "python",
   "name": ".amhe_venv"
  },
  "language_info": {
   "codemirror_mode": {
    "name": "ipython",
    "version": 3
   },
   "file_extension": ".py",
   "mimetype": "text/x-python",
   "name": "python",
   "nbconvert_exporter": "python",
   "pygments_lexer": "ipython3",
   "version": "3.10.12"
  }
 },
 "nbformat": 4,
 "nbformat_minor": 1
}
