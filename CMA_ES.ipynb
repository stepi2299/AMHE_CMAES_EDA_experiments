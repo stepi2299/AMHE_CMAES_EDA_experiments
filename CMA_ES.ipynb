{
 "cells": [
  {
   "cell_type": "markdown",
   "metadata": {
    "id": "WUKwzZfvXBSa"
   },
   "source": [
    "# Libraries"
   ]
  },
  {
   "cell_type": "code",
   "execution_count": null,
   "metadata": {
    "id": "C1S5BLjAW-7u"
   },
   "outputs": [],
   "source": [
    "import numpy as np\n",
    "import random\n",
    "from deap import base, creator, benchmarks\n",
    "import matplotlib.pyplot as plt\n",
    "import time\n",
    "from scipy import stats\n",
    "from abc import ABC, abstractmethod"
   ]
  },
  {
   "cell_type": "markdown",
   "metadata": {
    "id": "87ZMkNrpXD2H"
   },
   "source": [
    "# parameters"
   ]
  },
  {
   "cell_type": "code",
   "execution_count": null,
   "metadata": {
    "id": "UKELs4pcXE7f"
   },
   "outputs": [],
   "source": [
    "central_point_function_name = \"mean\"  # Check possible names below in 'possible_central_point_functions'\n",
    "obj_func = \"ackley\"  # Check possible names below in 'possible_obj_func'\n",
    "dim = 2 # dimension of the objective function\n",
    "\n",
    "population_size= 100  # Int, the size of the population\n",
    "num_generations = 500  # num_generations: Int, the number of generations\n",
    "sigma = 0.7  # float [0, 1], scaling factor that controls the size of the steps the algorithm\n",
    "\n",
    "proportion_to_cut = 0.1  #float [0, 1] Parameter used if you are using central point trimmed_mean or trimmed_median"
   ]
  },
  {
   "cell_type": "markdown",
   "metadata": {
    "id": "wlz-VWrIeoPJ"
   },
   "source": [
    "## Validation Params"
   ]
  },
  {
   "cell_type": "code",
   "execution_count": null,
   "metadata": {
    "id": "Ze0mHNUDerh6"
   },
   "outputs": [],
   "source": [
    "possible_central_point_functions = ['mean', 'weight_mean', 'median', 'trimmed_mean', 'trimmed_median', 'randomized_weighted_mean']\n",
    "if central_point_function_name not in possible_central_point_functions:\n",
    "  raise Exception(f\"Wrong parameter as defining central point, received: {central_point_function_name}, possible: {possible_central_point_functions}\")\n",
    "possible_obj_func = ['sphere', 'rastrigin', 'rosenbrock', 'ackley', 'griewank', 'schwefel', 'himmelblau']\n",
    "if obj_func not in possible_obj_func:\n",
    "  raise Exception(f\"Wrong parameter as defining objective function, received: {obj_func}, possible: {possible_obj_func}\")"
   ]
  },
  {
   "cell_type": "markdown",
   "metadata": {
    "id": "7qrH9NB0b6Vh"
   },
   "source": [
    "# CMA-ES\n"
   ]
  },
  {
   "cell_type": "markdown",
   "metadata": {
    "id": "BSjA6jmTb-fN"
   },
   "source": [
    "## Definition of central point"
   ]
  },
  {
   "cell_type": "code",
   "execution_count": null,
   "metadata": {
    "id": "oZe66CX8b9vr"
   },
   "outputs": [],
   "source": [
    "def weight_mean_point(selected, weights):\n",
    "  return np.dot(weights, selected)\n",
    "\n",
    "\n",
    "def mean_point(selected, weights):\n",
    "  return np.mean(selected, axis=0)\n",
    "\n",
    "\n",
    "def median(selected, weights):\n",
    "    return np.median(selected, axis=0)\n",
    "\n",
    "def trimmed_mean(selected, weights):\n",
    "    return stats.trim_mean(selected, proportion_to_cut, axis=0)\n",
    "\n",
    "def trimmed_median(selected, weights):\n",
    "    sorted_selected = np.sort(selected, axis=0)\n",
    "    cut_off = int(proportion_to_cut * len(sorted_selected))\n",
    "    trimmed = sorted_selected[cut_off:-cut_off]\n",
    "    return np.median(trimmed, axis=0)\n",
    "\n",
    "def randomized_weighted_mean(selected, weights):\n",
    "    random_weights = np.random.rand(len(selected))\n",
    "    random_weights /= sum(random_weights)\n",
    "    return np.average(selected, axis=0, weights=random_weights)"
   ]
  },
  {
   "cell_type": "code",
   "execution_count": null,
   "metadata": {
    "id": "HmnRGv2BfY7X"
   },
   "outputs": [],
   "source": [
    "central_point_mapper = {\n",
    "    \"mean\": mean_point,\n",
    "    \"weight_mean\": weight_mean_point,\n",
    "    \"median\": median,\n",
    "    \"trimmed_mean\": trimmed_mean,\n",
    "    \"trimmed_median\": trimmed_median,\n",
    "    \"randomized_weighted_mean\": randomized_weighted_mean\n",
    "}"
   ]
  },
  {
   "cell_type": "code",
   "execution_count": null,
   "metadata": {
    "id": "IKTbgvaBfFeE"
   },
   "outputs": [],
   "source": [
    "def central_point_function():\n",
    "  return central_point_mapper[central_point_function_name]"
   ]
  },
  {
   "cell_type": "markdown",
   "metadata": {
    "id": "DfIVKl1pjNnu"
   },
   "source": [
    "## Definition of the objective function"
   ]
  },
  {
   "cell_type": "code",
   "execution_count": null,
   "metadata": {
    "id": "_WLcm9zOjQ3l"
   },
   "outputs": [],
   "source": [
    "def get_obj_function_and_bounds(name, dimension=2):\n",
    "    \"\"\"Returns the function and its associated bounds based on the given name.\"\"\"\n",
    "    functions = {\n",
    "        \"sphere\": (lambda x: -benchmarks.sphere(x)[0], [0, 10]),\n",
    "        \"rastrigin\": (lambda x: -benchmarks.rastrigin(x)[0], [-5.12, 5.12]),\n",
    "        \"rosenbrock\": (lambda x: -benchmarks.rosenbrock(x)[0], [-2.048, 2.048]),\n",
    "        \"ackley\": (lambda x: -benchmarks.ackley(x)[0], [-32.768, 32.768]),\n",
    "        \"griewank\": (lambda x: -benchmarks.griewank(x)[0], [-600, 600]),\n",
    "        \"schwefel\": (lambda x: -benchmarks.schwefel(x)[0], [-500, 500]),\n",
    "        \"himmelblau\": (lambda x: -benchmarks.himmelblau(x)[0], [-6, 6])\n",
    "    }\n",
    "\n",
    "    func, single_dim_bounds = functions[name]\n",
    "    # Expand the bounds to the specified number of dimensions, except for inherently 2D functions\n",
    "    if name in [\"himmelblau\", \"booth\"] and dimension != 2:\n",
    "        raise ValueError(f\"{name} function is typically a 2D function.\")\n",
    "\n",
    "    bounds = [single_dim_bounds] * dimension  # Create a list of bounds for each dimension\n",
    "    return func, bounds"
   ]
  },
  {
   "cell_type": "markdown",
   "metadata": {
    "id": "YVua_tFTcDPx"
   },
   "source": [
    "# CMA-ES definition"
   ]
  },
  {
   "cell_type": "code",
   "execution_count": null,
   "metadata": {
    "id": "-qV0g6y4Jwkm"
   },
   "outputs": [],
   "source": [
    "class EvolutionInterface(ABC):\n",
    "  def __init__(self, objective_function, bounds, central_point_function, population_size, num_generations):\n",
    "        self.objective_function = objective_function\n",
    "        self.bounds = bounds\n",
    "        self.central_point_function = central_point_function\n",
    "        self.population_size = population_size\n",
    "        self.num_generations = num_generations\n",
    "        self.dimension = len(bounds)  # The length of bounds should determine the number of dimensions.\n",
    "\n",
    "  @abstractmethod\n",
    "  def run():\n",
    "    pass\n"
   ]
  },
  {
   "cell_type": "code",
   "execution_count": null,
   "metadata": {
    "id": "2kG2sjBncBHA"
   },
   "outputs": [],
   "source": [
    "class CMAES(EvolutionInterface):\n",
    "    def __init__(self, objective_function, bounds, central_point_function, population_size, num_generations, sigma):\n",
    "        super().__init__(objective_function, bounds, central_point_function, population_size, num_generations)\n",
    "        self.sigma = sigma\n",
    "        self.mean = np.random.uniform([b[0] for b in bounds], [b[1] for b in bounds])\n",
    "        self.C = np.identity(self.dimension)  # Initial covariance matrix\n",
    "        self.mueff = population_size  # Effective population size (simplified)\n",
    "\n",
    "\n",
    "    def initialize_population(self):\n",
    "        \"\"\"Generate an initial population using a multivariate normal distribution.\"\"\"\n",
    "        return np.random.multivariate_normal(self.mean, self.sigma**2 * self.C, self.population_size)\n",
    "\n",
    "    def evaluate_population(self, population):\n",
    "        \"\"\"Evaluate a population using the objective function.\"\"\"\n",
    "        return np.array([self.objective_function(ind) for ind in population])\n",
    "\n",
    "    def update_distribution(self, population, fitness):\n",
    "      # Calculate weights for only the top 50% of individuals\n",
    "      num_selected = int(self.population_size / 2)\n",
    "      weights = np.array([np.log(num_selected/2 + 1) - np.log(i+1) if i < num_selected/2 else 0 for i in range(num_selected)])\n",
    "      weights /= np.sum(weights)  # Normalize the weights\n",
    "\n",
    "      sorted_indices = np.argsort(-fitness)\n",
    "      selected = population[sorted_indices][:num_selected]\n",
    "\n",
    "      # Only apply weights to selected individuals\n",
    "      new_mean = self.central_point_function(selected, weights)\n",
    "      z = (selected - self.mean) / self.sigma\n",
    "      z_weighted = np.dot(np.diag(weights), z)\n",
    "      new_C = np.dot(z.T, z_weighted)\n",
    "\n",
    "      # Update parameters\n",
    "      self.mean = new_mean\n",
    "      self.C = (1 - 1/self.population_size) * self.C + (1/self.population_size) * new_C\n",
    "\n",
    "\n",
    "    def run(self):\n",
    "        \"\"\"Run the CMA-ES algorithm.\"\"\"\n",
    "        population = self.initialize_population()\n",
    "        fitness_history = []\n",
    "\n",
    "        for generation in range(self.num_generations):\n",
    "            fitness = self.evaluate_population(population)\n",
    "            fitness_history.append(np.max(fitness))\n",
    "            self.update_distribution(population, fitness)\n",
    "            population = np.random.multivariate_normal(self.mean, self.sigma**2 * self.C, self.population_size)\n",
    "            #print(f\"Generation {generation}: Max fitness = {np.max(fitness)}\")\n",
    "\n",
    "        return population, fitness_history"
   ]
  },
  {
   "cell_type": "markdown",
   "metadata": {
    "id": "cGfo5ewpebhV"
   },
   "source": [
    "# Experiments"
   ]
  },
  {
   "cell_type": "code",
   "execution_count": null,
   "metadata": {
    "id": "3HQS2AGoedvN"
   },
   "outputs": [],
   "source": [
    "objective_function, bounds = get_obj_function_and_bounds(obj_func, dim)\n",
    "\n",
    "# Funkcja, która uruchamia algorytm CMA-ES 10 razy i zwraca uśrednione wyniki\n",
    "def run_multiple_times(objective_function, bounds, central_point_function, population_size, num_generations, sigma, num_runs=15):\n",
    "    fitness_histories = []\n",
    "    execution_times = []\n",
    "\n",
    "    for _ in range(num_runs):\n",
    "        cmaes = CMAES(objective_function, bounds, central_point_function(), population_size, num_generations, sigma)\n",
    "        start_time = time.perf_counter()\n",
    "        final_population, fitness_history = cmaes.run()\n",
    "        end_time = time.perf_counter()\n",
    "\n",
    "        fitness_histories.append(fitness_history)\n",
    "        execution_times.append(end_time - start_time)\n",
    "\n",
    "    # Obliczanie średniej wartości przystosowania i czasu wykonania\n",
    "    avg_fitness_history = np.mean(fitness_histories, axis=0)\n",
    "    avg_execution_time = np.mean(execution_times)\n",
    "\n",
    "    print(execution_times)\n",
    "\n",
    "    return avg_fitness_history, avg_execution_time\n",
    "\n",
    "# Uruchomienie algorytmu CMA-ES 15 razy\n",
    "avg_fitness_history, avg_execution_time = run_multiple_times(objective_function, bounds, central_point_function, population_size, num_generations, sigma)\n",
    "\n",
    "# Wyświetlenie średniej wartości przystosowania\n",
    "for i, fitness in enumerate(avg_fitness_history):\n",
    "    print(f\"Generation {i}: Max fitness = {fitness}\")\n",
    "\n",
    "\n"
   ]
  },
  {
   "cell_type": "markdown",
   "metadata": {
    "id": "ruaaXJd-hKk9"
   },
   "source": [
    "# Analyze"
   ]
  },
  {
   "cell_type": "code",
   "execution_count": null,
   "metadata": {
    "id": "-LdI-lqngR8B"
   },
   "outputs": [],
   "source": [
    "# Wyświetlenie wyników\n",
    "try:\n",
    "  print(\"Average Time of the evaluation:\", avg_execution_time)\n",
    "except Exception:\n",
    "  print(\"Cannot calculate time of execution because execution was stopped by force and it was not completed so there is no ending time\")\n",
    "\n",
    "plt.plot(avg_fitness_history)\n",
    "plt.title('Average Fitness over Generations (15 runs)')\n",
    "plt.xlabel('Generation')\n",
    "plt.ylabel('Max Fitness')\n",
    "plt.show()"
   ]
  },
  {
   "cell_type": "code",
   "execution_count": null,
   "metadata": {
    "id": "7Jjq7248M1T3"
   },
   "outputs": [],
   "source": [
    "\n",
    "\n"
   ]
  }
 ],
 "metadata": {
  "colab": {
   "provenance": []
  },
  "kernelspec": {
   "display_name": ".amhe_venv",
   "language": "python",
   "name": ".amhe_venv"
  },
  "language_info": {
   "codemirror_mode": {
    "name": "ipython",
    "version": 3
   },
   "file_extension": ".py",
   "mimetype": "text/x-python",
   "name": "python",
   "nbconvert_exporter": "python",
   "pygments_lexer": "ipython3",
   "version": "3.10.12"
  }
 },
 "nbformat": 4,
 "nbformat_minor": 1
}
